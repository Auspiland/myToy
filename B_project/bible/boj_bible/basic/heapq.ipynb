{
 "cells": [
  {
   "cell_type": "code",
   "execution_count": 3,
   "id": "877be1fd",
   "metadata": {},
   "outputs": [],
   "source": [
    "import heapq"
   ]
  },
  {
   "cell_type": "markdown",
   "id": "ebdfff44",
   "metadata": {},
   "source": [
    "1. heapq.heapify(x)\n",
    "\n",
    "리스트 x를 제자리(in-place) 에서 힙 구조로 변환.\n",
    "\n",
    "시간 복잡도: O(n)."
   ]
  },
  {
   "cell_type": "code",
   "execution_count": 4,
   "id": "cc98a9d7",
   "metadata": {},
   "outputs": [
    {
     "name": "stdout",
     "output_type": "stream",
     "text": [
      "[1, 1, 4, 3, 5, 9]\n"
     ]
    }
   ],
   "source": [
    "arr = [3, 1, 4, 1, 5, 9]\n",
    "heapq.heapify(arr)\n",
    "print(arr)  # 힙 구조 유지 (정렬 아님)\n"
   ]
  },
  {
   "cell_type": "markdown",
   "id": "f91366b0",
   "metadata": {},
   "source": [
    "2. heapq.heappush(heap, item)\n",
    "\n",
    "heap에 item을 삽입하면서 힙 속성 유지.\n",
    "\n",
    "시간 복잡도: O(log n)."
   ]
  },
  {
   "cell_type": "code",
   "execution_count": null,
   "id": "7b51fa6e",
   "metadata": {},
   "outputs": [],
   "source": [
    "heap = []\n",
    "heapq.heappush(heap, 3)\n",
    "heapq.heappush(heap, 1)\n",
    "heapq.heappush(heap, 4)\n",
    "print(heap)  # [1, 3, 4]"
   ]
  },
  {
   "cell_type": "markdown",
   "id": "4eb463c7",
   "metadata": {},
   "source": [
    "2. heapq.heappush(heap, item)\n",
    "\n",
    "heap에 item을 삽입하면서 힙 속성 유지.\n",
    "\n",
    "시간 복잡도: O(log n)."
   ]
  },
  {
   "cell_type": "code",
   "execution_count": null,
   "id": "6b2dfbaf",
   "metadata": {},
   "outputs": [],
   "source": [
    "x = heapq.heappop(heap)\n",
    "print(x)     # 1\n",
    "print(heap)  # [3, 4]\n"
   ]
  },
  {
   "cell_type": "markdown",
   "id": "0777533b",
   "metadata": {},
   "source": [
    "4. heapq.heappushpop(heap, item)\n",
    "\n",
    "새 원소를 먼저 힙에 삽입하고, 가장 작은 원소를 바로 pop하여 반환.\n",
    "\n",
    "시간 복잡도: O(log n).\n",
    "\n",
    "삽입 후 pop 하는 것보다 더 효율적."
   ]
  },
  {
   "cell_type": "code",
   "execution_count": null,
   "id": "07405272",
   "metadata": {},
   "outputs": [],
   "source": [
    "heap = [1, 3, 5]\n",
    "heapq.heapify(heap)\n",
    "print(heapq.heappushpop(heap, 2))  # 1 반환, heap은 [2, 3, 5]\n"
   ]
  },
  {
   "cell_type": "markdown",
   "id": "98484f7c",
   "metadata": {},
   "source": [
    "5. heapq.heapreplace(heap, item)\n",
    "\n",
    "힙에서 가장 작은 원소를 pop하고, 새 원소를 push.\n",
    "\n",
    "heappushpop과 다르게 반드시 pop 먼저.\n",
    "\n",
    "힙이 비어 있으면 IndexError."
   ]
  },
  {
   "cell_type": "code",
   "execution_count": null,
   "id": "b3e24505",
   "metadata": {},
   "outputs": [],
   "source": [
    "heap = [1, 3, 5]\n",
    "heapq.heapify(heap)\n",
    "print(heapq.heapreplace(heap, 2))  # 1 반환, heap은 [2, 3, 5]\n"
   ]
  },
  {
   "cell_type": "markdown",
   "id": "f5b6a704",
   "metadata": {},
   "source": [
    "6. heapq.merge(*iterables, key=None, reverse=False)\n",
    "\n",
    "정렬된 여러 iterable을 병합하면서 정렬된 iterator를 생성.\n",
    "\n",
    "제자리 정렬 아님 → generator 반환."
   ]
  },
  {
   "cell_type": "code",
   "execution_count": null,
   "id": "6479a4eb",
   "metadata": {},
   "outputs": [],
   "source": [
    "a = [1, 3, 5]\n",
    "b = [2, 4, 6]\n",
    "print(list(heapq.merge(a, b)))  # [1, 2, 3, 4, 5, 6]\n"
   ]
  },
  {
   "cell_type": "markdown",
   "id": "3ec05d12",
   "metadata": {},
   "source": [
    "7. heapq.nlargest(n, iterable, key=None)\n",
    "\n",
    "iterable에서 가장 큰 n개 원소를 리스트로 반환."
   ]
  },
  {
   "cell_type": "code",
   "execution_count": null,
   "id": "406eb052",
   "metadata": {},
   "outputs": [],
   "source": [
    "nums = [1, 8, 2, 23, 7, -4, 18]\n",
    "print(heapq.nlargest(3, nums))  # [23, 18, 8]\n"
   ]
  },
  {
   "cell_type": "markdown",
   "id": "8bc6553b",
   "metadata": {},
   "source": [
    "8. heapq.nsmallest(n, iterable, key=None)\n",
    "\n",
    "iterable에서 가장 작은 n개 원소를 리스트로 반환."
   ]
  },
  {
   "cell_type": "code",
   "execution_count": null,
   "id": "b06f1db0",
   "metadata": {},
   "outputs": [],
   "source": [
    "print(heapq.nsmallest(3, nums))  # [-4, 1, 2]\n"
   ]
  },
  {
   "cell_type": "markdown",
   "id": "f2cd8eed",
   "metadata": {},
   "source": [
    "9. _heapify_max (내부 함수, 공식 API 아님)\n",
    "\n",
    "최대 힙으로 변환하는 내부용 함수. 일반적으로는 쓰지 않음.\n",
    "\n",
    "최대 힙을 쓰고 싶다면, 음수 값을 저장하는 방식으로 min-heap을 응용하는 것이 권장."
   ]
  },
  {
   "cell_type": "code",
   "execution_count": null,
   "id": "f70bce7a",
   "metadata": {},
   "outputs": [],
   "source": [
    "max_heap = [-x for x in [3,1,4,1,5,9]]\n",
    "heapq.heapify(max_heap)\n",
    "print([-heapq.heappop(max_heap) for _ in range(len(max_heap))])\n",
    "# [9, 5, 4, 3, 1, 1]\n"
   ]
  },
  {
   "cell_type": "code",
   "execution_count": null,
   "id": "2ee8c9aa",
   "metadata": {},
   "outputs": [],
   "source": [
    "import heapq\n",
    "\n",
    "# 작업 (priority, task_name)\n",
    "tasks = [(2, \"code\"), (1, \"eat\"), (3, \"sleep\")]\n",
    "heapq.heapify(tasks)\n",
    "\n",
    "while tasks:\n",
    "    priority, task = heapq.heappop(tasks)\n",
    "    print(f\"우선순위 {priority}: {task}\")\n"
   ]
  }
 ],
 "metadata": {
  "kernelspec": {
   "display_name": "brownie",
   "language": "python",
   "name": "python3"
  },
  "language_info": {
   "codemirror_mode": {
    "name": "ipython",
    "version": 3
   },
   "file_extension": ".py",
   "mimetype": "text/x-python",
   "name": "python",
   "nbconvert_exporter": "python",
   "pygments_lexer": "ipython3",
   "version": "3.13.5"
  }
 },
 "nbformat": 4,
 "nbformat_minor": 5
}
