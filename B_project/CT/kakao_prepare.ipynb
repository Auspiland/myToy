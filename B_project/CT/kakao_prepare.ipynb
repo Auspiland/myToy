{
 "cells": [
  {
   "cell_type": "markdown",
   "id": "0c9e73b8",
   "metadata": {},
   "source": [
    "세계적인 도둑 상덕이는 보석점을 털기로 결심했다.\n",
    "\n",
    "상덕이가 털 보석점에는 보석이 총 N개 있다. 각 보석은 무게 Mi와 가격 Vi를 가지고 있다. 상덕이는 가방을 K개 가지고 있고, 각 가방에 담을 수 있는 최대 무게는 Ci이다. 가방에는 최대 한 개의 보석만 넣을 수 있다.\n",
    "\n",
    "상덕이가 훔칠 수 있는 보석의 최대 가격을 구하는 프로그램을 작성하시오.\n",
    "\n",
    "입력\n",
    "첫째 줄에 N과 K가 주어진다. (1 ≤ N, K ≤ 300,000)\n",
    "\n",
    "다음 N개 줄에는 각 보석의 정보 Mi와 Vi가 주어진다. (0 ≤ Mi, Vi ≤ 1,000,000)\n",
    "\n",
    "다음 K개 줄에는 가방에 담을 수 있는 최대 무게 Ci가 주어진다. (1 ≤ Ci ≤ 100,000,000)\n",
    "\n",
    "모든 숫자는 양의 정수이다.\n",
    "\n",
    "출력\n",
    "최대 가격 (int)\n",
    "\n",
    "solution(N, K, jewerly, bag)\n",
    "\n",
    "jewerly.shape = (2,N)\n",
    "bag.shape = (K)"
   ]
  },
  {
   "cell_type": "code",
   "execution_count": null,
   "id": "ba595346",
   "metadata": {},
   "outputs": [],
   "source": [
    "# 내 방법 ： 시간 초과\n",
    "# 일단 비싼 것 부터 넣기\n",
    "# 넣는 방법 : 들어갈 수 있는 가장 작은 것에 넣음\n",
    "# 안들어가면 제외.\n",
    "import bisect\n",
    "\n",
    "def solution(N, K, jewerly, bag):\n",
    "\n",
    "    N = int(N)\n",
    "    K = int(K)\n",
    "\n",
    "    jewerly.sort(key=lambda x: x[1], reverse=True)\n",
    "\n",
    "    bag.sort()\n",
    "    bag_mask = [0]*K\n",
    "\n",
    "    total = 0\n",
    "\n",
    "    for weight, price in jewerly:\n",
    "        \n",
    "        idx = bisect.bisect_left(bag, weight)\n",
    "        while idx < len(bag):\n",
    "            if bag_mask[idx] == 1:\n",
    "                idx += 1\n",
    "            else:\n",
    "                total += price\n",
    "                bag_mask[idx] = 1\n",
    "                break\n",
    "        \n",
    "    return total\n",
    "\n",
    "# 두배 정도 빠름\n",
    "# GPT 방법\n",
    "import heapq\n",
    "\n",
    "def solution(N, K, jewerly, bag):\n",
    "    N = int(N)\n",
    "    K = int(K)\n",
    "\n",
    "    jewerly.sort(key=lambda x: x[0])\n",
    "    bag.sort()\n",
    "\n",
    "    total = 0\n",
    "    maxheap = []\n",
    "    j = 0\n",
    "    for c in bag:\n",
    "        while j < N and jewerly[j][0] <= c:\n",
    "            heapq.heappush(maxheap, -jewerly[j][1])\n",
    "            j += 1\n",
    "        if maxheap:\n",
    "            total += -heapq.heappop(maxheap)\n",
    "    return total\n",
    "\n"
   ]
  },
  {
   "cell_type": "code",
   "execution_count": 4,
   "id": "e288d912",
   "metadata": {},
   "outputs": [
    {
     "data": {
      "text/plain": [
       "10"
      ]
     },
     "execution_count": 4,
     "metadata": {},
     "output_type": "execute_result"
    }
   ],
   "source": [
    "import sys\n",
    "import bisect\n",
    "\n",
    "data = list(map(int, sys.stdin.buffer.read().split()))\n",
    "it = iter(data)\n",
    "\n",
    "N = next(it); K = next(it)\n",
    "\n",
    "# jewels: (M, V) N쌍\n",
    "jewerly = [(next(it), next(it)) for _ in range(N)]\n",
    "# bags: C K개\n",
    "bag = [next(it) for _ in range(K)]\n",
    "\n",
    "# 정렬 및 처리 로직\n",
    "jewerly.sort(key=lambda x: x[1], reverse=True)\n",
    "bag.sort()\n",
    "bag_mask = [0]*K\n",
    "\n",
    "total = 0\n",
    "\n",
    "for weight, price in jewerly:\n",
    "    \n",
    "    idx = bisect.bisect_left(bag, weight)\n",
    "    while idx < len(bag):\n",
    "        if bag_mask[idx] == 1:\n",
    "            idx += 1\n",
    "        else:\n",
    "            total += price\n",
    "            bag_mask[idx] = 1\n",
    "            break\n",
    "print(total)\n",
    "\n",
    "# ================================\n",
    "import sys\n",
    "import heapq\n",
    "\n",
    "data = list(map(int, sys.stdin.buffer.read().split()))\n",
    "it = iter(data)\n",
    "\n",
    "N = next(it); K = next(it)\n",
    "\n",
    "# jewels: (M, V) N쌍\n",
    "jewels = [(next(it), next(it)) for _ in range(N)]\n",
    "# bags: C K개\n",
    "bags = [next(it) for _ in range(K)]\n",
    "\n",
    "jewerly.sort(key=lambda x: x[0])  # 무게 오름차순\n",
    "bag.sort()\n",
    "\n",
    "total = 0\n",
    "maxheap = []\n",
    "j = 0\n",
    "for c in bag:\n",
    "    while j < N and jewerly[j][0] <= c:\n",
    "        heapq.heappush(maxheap, -jewerly[j][1])\n",
    "        j += 1\n",
    "    if maxheap:\n",
    "        total += -heapq.heappop(maxheap)\n",
    "print(total)"
   ]
  },
  {
   "cell_type": "code",
   "execution_count": 9,
   "id": "1198acf1",
   "metadata": {},
   "outputs": [
    {
     "data": {
      "text/plain": [
       "3"
      ]
     },
     "execution_count": 9,
     "metadata": {},
     "output_type": "execute_result"
    }
   ],
   "source": [
    "3%10"
   ]
  },
  {
   "cell_type": "code",
   "execution_count": 11,
   "id": "95ec30e2",
   "metadata": {},
   "outputs": [
    {
     "name": "stdout",
     "output_type": "stream",
     "text": [
      "✅ Appended one case to C:\\Users\\T3Q\\jeonghan\\my_github\\myToy\\B_project\\CT\\auto_solve\\generated_data\\세계적인 도둑 상.jsonl\n"
     ]
    }
   ],
   "source": [
    "# -*- coding: utf-8 -*-\n",
    "import json\n",
    "import os\n",
    "from time import time_ns\n",
    "import random\n",
    "# append할 데이터 생성 (정답 NULL)\n",
    "def build_case(N=300, K=300, BASE=1_000_000):\n",
    "    random.seed = time_ns() %10000\n",
    "    inp = {\n",
    "        \"N\": N,\n",
    "        \"K\": K,\n",
    "        \"jewerly\": [[random.randint(1,BASE), random.randint(1,BASE*10)] for i in range(1, N + 1)],\n",
    "        \"bag\": list(range(1, K + 1))\n",
    "    }\n",
    "    data = {\n",
    "        \"input\": json.dumps(inp, ensure_ascii=False),\n",
    "        \"answer\": \"NULL\",\n",
    "        \"note\": f\"Auto-generated large case (N={N}, K={K}). No answer yet.\",\n",
    "        \"tags\": [\"auto\", \"pending\"],\n",
    "        \"size_class\": \"huge\"\n",
    "    }\n",
    "    return data\n",
    "\n",
    "# 저장 경로\n",
    "path = r\"C:\\Users\\T3Q\\jeonghan\\my_github\\myToy\\B_project\\CT\\auto_solve\\generated_data\\세계적인 도둑 상.jsonl\"\n",
    "os.makedirs(os.path.dirname(path), exist_ok=True)\n",
    "\n",
    "# 새 케이스 생성\n",
    "case = build_case(N=300_000, K=300_000, BASE=1_000_000)\n",
    "\n",
    "# 파일에 append\n",
    "with open(path, \"a\", encoding=\"utf-8\") as f:\n",
    "    json.dump(case, f, ensure_ascii=False)\n",
    "    f.write(\"\\n\")\n",
    "\n",
    "print(f\"✅ Appended one case to {path}\")\n"
   ]
  },
  {
   "cell_type": "code",
   "execution_count": null,
   "id": "c2fa3ab2",
   "metadata": {},
   "outputs": [
    {
     "name": "stdout",
     "output_type": "stream",
     "text": [
      "Reserve(rid=1, request_day=1, check_in=3, stay=2, rooms=3, deadline=2)\n",
      "Reserve(rid=2, request_day=1, check_in=3, stay=2, rooms=3, deadline=2)\n"
     ]
    }
   ],
   "source": [
    "# R (1 ≤ R ≤ 2000): 총 객실 수\n",
    "# N (1 ≤ N ≤ 10⁴): 예약 요청 수\n",
    "# D (1 ≤ D ≤ 365): 전체 운영 일수\n",
    "# rid request_day check_in stay rooms deadline\n",
    "\n",
    "from dataclasses import dataclass, field\n",
    "\n",
    "@dataclass(order=True, slots=True, frozen=True)\n",
    "class Reserve:\n",
    "    rid : int = field(compare=False)\n",
    "    request_day: int = field(compare=False)\n",
    "    check_in: int = field(compare=False)\n",
    "    stay: int = field(compare=False)\n",
    "    rooms: int\n",
    "    deadline: int = field(compare=False)\n",
    "\n",
    "def solution(R,N,D, reserve_table):\n",
    "    R,N,D = list(map(int,(R,N,D)))\n",
    "    \n",
    "    reserves = [Reserve(*x) for x in reserve_table]\n",
    "\n",
    "    for r in reserves:\n",
    "        print(r)\n",
    "\n",
    "\n",
    "solution(10,2,20,[[1,1,3,2,3,2],[2,1,3,2,3,2]])"
   ]
  },
  {
   "cell_type": "code",
   "execution_count": 27,
   "id": "2bcb09aa",
   "metadata": {},
   "outputs": [
    {
     "data": {
      "text/plain": [
       "(1, 2, 3)"
      ]
     },
     "execution_count": 27,
     "metadata": {},
     "output_type": "execute_result"
    }
   ],
   "source": [
    "a = map(int,(1,2,3))\n",
    "next(a),next(a),next(a)"
   ]
  },
  {
   "cell_type": "markdown",
   "id": "31438cbf",
   "metadata": {},
   "source": [
    "[본 문제는 정확성과 효율성 테스트 각각 점수가 있는 문제입니다.]\n",
    "\n",
    "\"스노우타운\"에서 호텔을 운영하고 있는 \"스카피\"는 호텔에 투숙하려는 고객들에게 방을 배정하려 합니다. 호텔에는 방이 총 k개 있으며, 각각의 방은 1번부터 k번까지 번호로 구분하고 있습니다. 처음에는 모든 방이 비어 있으며 \"스카피\"는 다음과 같은 규칙에 따라 고객에게 방을 배정하려고 합니다.\n",
    "\n",
    "한 번에 한 명씩 신청한 순서대로 방을 배정합니다.\n",
    "고객은 투숙하기 원하는 방 번호를 제출합니다.\n",
    "고객이 원하는 방이 비어 있다면 즉시 배정합니다.\n",
    "고객이 원하는 방이 이미 배정되어 있으면 원하는 방보다 번호가 크면서 비어있는 방 중 가장 번호가 작은 방을 배정합니다.\n",
    "예를 들어, 방이 총 10개이고, 고객들이 원하는 방 번호가 순서대로 [1, 3, 4, 1, 3, 1] 일 경우 다음과 같이 방을 배정받게 됩니다.\n",
    "\n",
    "원하는 방 번호\t배정된 방 번호\n",
    "1\t1\n",
    "3\t3\n",
    "4\t4\n",
    "1\t2\n",
    "3\t5\n",
    "1\t6\n",
    "전체 방 개수 k와 고객들이 원하는 방 번호가 순서대로 들어있는 배열 room_number가 매개변수로 주어질 때, 각 고객에게 배정되는 방 번호를 순서대로 배열에 담아 return 하도록 solution 함수를 완성해주세요.\n",
    "\n",
    "[제한사항]\n",
    "k는 1 이상 10^12 이하인 자연수입니다.\n",
    "room_number 배열의 크기는 1 이상 200,000 이하입니다.\n",
    "room_number 배열 각 원소들의 값은 1 이상 k 이하인 자연수입니다.\n",
    "room_number 배열은 모든 고객이 방을 배정받을 수 있는 경우만 입력으로 주어집니다.\n",
    "예를 들어, k = 5, room_number = [5, 5] 와 같은 경우는 방을 배정받지 못하는 고객이 발생하므로 이런 경우는 입력으로 주어지지 않습니다.\n",
    "[입출력 예]\n",
    "k\troom_number\tresult\n",
    "10\t[1,3,4,1,3,1]\t[1,3,4,2,5,6]\n",
    "입출력 예에 대한 설명\n",
    "입출력 예 #1\n",
    "\n",
    "문제의 예시와 같습니다.\n",
    "\n",
    "첫 번째 ~ 세 번째 고객까지는 원하는 방이 비어 있으므로 즉시 배정받을 수 있습니다. 네 번째 고객의 경우 1번 방을 배정받기를 원했는데, 1번 방은 빈 방이 아니므로, 1번 보다 번호가 크고 비어 있는 방 중에서 가장 번호가 작은 방을 배정해야 합니다. 1번 보다 번호가 크면서 비어있는 방은 [2번, 5번, 6번...] 방이며, 이중 가장 번호가 작은 방은 2번 방입니다. 따라서 네 번째 고객은 2번 방을 배정받습니다. 마찬가지로 5, 6번째 고객은 각각 5번, 6번 방을 배정받게 됩니다."
   ]
  },
  {
   "cell_type": "code",
   "execution_count": null,
   "id": "810e5c38",
   "metadata": {},
   "outputs": [],
   "source": [
    "# 내 코드\n",
    "def solutionA(k, room_number):\n",
    "    room_mask = [0]+[0]*k\n",
    "    result = []\n",
    "    for now in room_number:\n",
    "        while room_mask[now]:\n",
    "            now += 1\n",
    "        result.append(now)\n",
    "        room_mask[now] = 1\n",
    "    return result"
   ]
  },
  {
   "cell_type": "code",
   "execution_count": null,
   "id": "d6284f4d",
   "metadata": {},
   "outputs": [],
   "source": [
    "# 폐기\n",
    "def solutionB(k, room_number):\n",
    "    room_mask = 0\n",
    "    result = []\n",
    "    for now in room_number:\n",
    "        now_mask = 1 << (now-1)\n",
    "        # print(bin(room_mask)[2:], end=\"\\t\")\n",
    "        while room_mask & now_mask:\n",
    "            now_mask <<= 1\n",
    "        room_mask ^= now_mask\n",
    "        result.append((now_mask & -now_mask).bit_length())\n",
    "        # print(bin(now_mask)[2:], \"\\t\", bin(room_mask)[2:])\n",
    "    return result\n"
   ]
  },
  {
   "cell_type": "code",
   "execution_count": null,
   "id": "c7526eda",
   "metadata": {},
   "outputs": [],
   "source": [
    "def solutionD(k, room_number):\n",
    "    parent = {}\n",
    "\n",
    "    def find(x):\n",
    "        path = []\n",
    "        while x in parent:\n",
    "            path.append(x)\n",
    "            x = parent[x]\n",
    "        nxt = x + 1\n",
    "        for p in path:\n",
    "            parent[p] = nxt  # 경로 압축\n",
    "        parent[x] = nxt\n",
    "        return x\n",
    "\n",
    "\n",
    "    result = []\n",
    "    for room in room_number:\n",
    "        result.append(find(room))\n",
    "    return result"
   ]
  },
  {
   "cell_type": "code",
   "execution_count": null,
   "id": "18308549",
   "metadata": {},
   "outputs": [],
   "source": []
  }
 ],
 "metadata": {
  "kernelspec": {
   "display_name": "eggtart",
   "language": "python",
   "name": "python3"
  },
  "language_info": {
   "codemirror_mode": {
    "name": "ipython",
    "version": 3
   },
   "file_extension": ".py",
   "mimetype": "text/x-python",
   "name": "python",
   "nbconvert_exporter": "python",
   "pygments_lexer": "ipython3",
   "version": "3.13.5"
  }
 },
 "nbformat": 4,
 "nbformat_minor": 5
}
