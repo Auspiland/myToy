{
 "cells": [
  {
   "cell_type": "code",
   "execution_count": null,
   "id": "51ea02df",
   "metadata": {},
   "outputs": [
    {
     "data": {
      "text/plain": [
       "12"
      ]
     },
     "execution_count": 2,
     "metadata": {},
     "output_type": "execute_result"
    }
   ],
   "source": [
    "from multiprocessing import Pool, Process, cpu_count\n",
    "max_workers = cpu_count() - 2\n",
    "\n",
    "config = {\n",
    "    \"base\": 0.008,\n",
    "    \"ceil\": 80,\n",
    "    \"raise_start\": 64,\n",
    "    \"raise_diff\" : 0.06\n",
    "}\n",
    "\n",
    "def prob(n):\n",
    "    \n",
    "\n",
    "with Pool(processes=max_workers) as pool:\n",
    "    pool.map()\n",
    "\n",
    "# \n"
   ]
  },
  {
   "cell_type": "code",
   "execution_count": 10,
   "id": "160ec0f4",
   "metadata": {},
   "outputs": [
    {
     "name": "stdout",
     "output_type": "stream",
     "text": [
      "   samples_condition_actual7  obs_total_draws  mean_total_draws  \\\n",
      "0                       7651              888        733.766174   \n",
      "\n",
      "   median_total_draws  std_total_draws  percentile_rank_of_obs_%  \n",
      "0               737.0        82.454031                 97.856489  \n"
     ]
    },
    {
     "data": {
      "image/png": "[encoded data removed]",
      "text/plain": [
       "<Figure size 640x480 with 1 Axes>"
      ]
     },
     "metadata": {},
     "output_type": "display_data"
    }
   ],
   "source": [
    "# Monte Carlo to estimate the percentile of total draws given:\n",
    "# - Per-episode \"first success time\" T sampled from the same pity schedule used earlier (1..80).\n",
    "# - 14 episodes total.\n",
    "# - Odd-indexed episodes (1,3,5,...) require a 50% coin to count as an \"actual\" win; even-indexed count automatically.\n",
    "# We filter runs where the number of \"actual\" wins == 7 (i.e., all 7 odd coins failed).\n",
    "# For those runs, we compute the percentile of a given observed total-draws sum (888).\n",
    "\n",
    "import random, bisect, math\n",
    "import pandas as pd\n",
    "import numpy as np\n",
    "import matplotlib.pyplot as plt\n",
    "\n",
    "# Build PMF/CDF for pity schedule up to t=80\n",
    "p = {}\n",
    "for t in range(1, 81):\n",
    "    if t <= 63:\n",
    "        p[t] = 0.008\n",
    "    else:\n",
    "        p[t] = min(0.008 + 0.06*(t-63), 1.0)\n",
    "\n",
    "pmf = []\n",
    "survival = 1.0\n",
    "for t in range(1, 81):\n",
    "    pmf.append(survival * p[t])\n",
    "    survival *= (1 - p[t])\n",
    "\n",
    "cdf = np.cumsum(pmf)\n",
    "support = np.arange(1, 81, dtype=int)\n",
    "\n",
    "def sample_T(u):\n",
    "    # inverse CDF\n",
    "    idx = bisect.bisect_left(cdf, u)\n",
    "    return int(support[idx])\n",
    "\n",
    "def simulate_once():\n",
    "    Ts = [sample_T(random.random()) for _ in range(14)]\n",
    "    # odd indices (1-based): 1,3,5,...,13 -> 0-based indices 0,2,4,...,12\n",
    "    actual = 7  # evens always count\n",
    "    for i in range(0, 14, 2):\n",
    "        # odd episodes: coin flip, need success to count; user failed all in observed case,\n",
    "        # but for filtering we require \"actual == 7\", i.e., all odd flips = 0.\n",
    "        if random.random() < 0.5:\n",
    "            actual += 1\n",
    "    return sum(Ts), actual\n",
    "\n",
    "N = 1000000\n",
    "totals = []\n",
    "for _ in range(N):\n",
    "    s, actual = simulate_once()\n",
    "    if actual == 7:\n",
    "        totals.append(s)\n",
    "\n",
    "totals = np.array(totals, dtype=int)\n",
    "obs_total = 888\n",
    "\n",
    "# Percentile rank: proportion <= obs_total\n",
    "percentile = (totals <= obs_total).mean() * 100.0\n",
    "\n",
    "summary = {\n",
    "    \"samples_condition_actual7\": int(len(totals)),\n",
    "    \"obs_total_draws\": int(obs_total),\n",
    "    \"mean_total_draws\": float(np.mean(totals)),\n",
    "    \"median_total_draws\": float(np.median(totals)),\n",
    "    \"std_total_draws\": float(np.std(totals, ddof=1)),\n",
    "    \"percentile_rank_of_obs_%\": float(percentile),\n",
    "}\n",
    "\n",
    "# Display summary\n",
    "df = pd.DataFrame([summary])\n",
    "print(df.head(6))\n",
    "\n",
    "# Plot histogram for context\n",
    "plt.figure()\n",
    "plt.hist(totals, bins=40)\n",
    "plt.axvline(obs_total, linestyle=\"--\")\n",
    "plt.title(\"Total draws distribution (actual wins=7); dashed = your 888\")\n",
    "plt.xlabel(\"Total draws across 14 episodes\")\n",
    "plt.ylabel(\"Count\")\n",
    "plt.show()\n"
   ]
  }
 ],
 "metadata": {
  "kernelspec": {
   "display_name": "eggtart",
   "language": "python",
   "name": "python3"
  },
  "language_info": {
   "codemirror_mode": {
    "name": "ipython",
    "version": 3
   },
   "file_extension": ".py",
   "mimetype": "text/x-python",
   "name": "python",
   "nbconvert_exporter": "python",
   "pygments_lexer": "ipython3",
   "version": "3.13.5"
  }
 },
 "nbformat": 4,
 "nbformat_minor": 5
}
