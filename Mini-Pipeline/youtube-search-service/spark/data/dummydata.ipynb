{
 "cells": [
  {
   "cell_type": "code",
   "execution_count": 1,
   "id": "3635c38b",
   "metadata": {},
   "outputs": [
    {
     "name": "stdout",
     "output_type": "stream",
     "text": [
      "{\n",
      "  \"id\": \"983ccd78-3d70-49cd-a31c-057046520d16\",\n",
      "  \"video_id\": \"dQw4w9WgXcQ\",\n",
      "  \"title_name\": \"AI 시대, 인간의 역할은?\",\n",
      "  \"description\": \"이 영상에서는 인공지능이 사회에 미치는 영향에 대해 다룹니다.\",\n",
      "  \"published_at\": \"2023-07-01T15:30:00\",\n",
      "  \"script\": \"안녕하세요 여러분, 오늘은 인공지능이 바꾸는 미래에 대해 이야기해보겠습니다...\",\n",
      "  \"language\": \"ko\",\n",
      "  \"err_cd\": \"\",\n",
      "  \"err_msg\": \"\",\n",
      "  \"err_detail\": \"\",\n",
      "  \"etc_info\": \"{\\\"category\\\": \\\"기술\\\", \\\"channel_name\\\": \\\"Tech Insight\\\", \\\"speaker_count\\\": 1}\"\n",
      "}\n"
     ]
    }
   ],
   "source": [
    "import json\n",
    "import uuid\n",
    "from datetime import datetime\n",
    "\n",
    "# 더미 데이터 구성\n",
    "dummy_data = {\n",
    "    \"id\": str(uuid.uuid4()),\n",
    "    \"video_id\": \"dQw4w9WgXcQ\",\n",
    "    \"title_name\": \"AI 시대, 인간의 역할은?\",\n",
    "    \"description\": \"이 영상에서는 인공지능이 사회에 미치는 영향에 대해 다룹니다.\",\n",
    "    \"published_at\": datetime(2023, 7, 1, 15, 30).isoformat(),  # ISO 8601 형식\n",
    "    \"script\": \"안녕하세요 여러분, 오늘은 인공지능이 바꾸는 미래에 대해 이야기해보겠습니다...\",\n",
    "    \"language\": \"ko\",\n",
    "    \"err_cd\": \"\",\n",
    "    \"err_msg\": \"\",\n",
    "    \"err_detail\": \"\",\n",
    "    \"etc_info\": json.dumps({\n",
    "        \"category\": \"기술\",\n",
    "        \"channel_name\": \"Tech Insight\",\n",
    "        \"speaker_count\": 1\n",
    "    }, ensure_ascii=False)\n",
    "}\n",
    "\n",
    "with open(\"dummy_kafka_data.json\",\"w\",encoding=\"utf-8-sig\") as f:\n",
    "    json.dump(dummy_data, f, ensure_ascii=False, indent=2)\n",
    "\n",
    "# 출력 (Kafka CLI나 REST 전송 시 사용 가능)\n",
    "print(json.dumps(dummy_data, ensure_ascii=False, indent=2))\n"
   ]
  },
  {
   "cell_type": "code",
   "execution_count": 4,
   "id": "2cd7a015",
   "metadata": {},
   "outputs": [
    {
     "name": "stdout",
     "output_type": "stream",
     "text": [
      "dict_keys(['id', 'video_id', 'title_name', 'description', 'published_at', 'script', 'language', 'err_cd', 'err_msg', 'err_detail', 'etc_info'])\n"
     ]
    }
   ],
   "source": [
    "def load_dummy():\n",
    "    with open(\"dummy_kafka_data.json\", 'r', encoding=\"utf-8-sig\") as f:\n",
    "        text = json.load(f)\n",
    "    print(text.keys())\n",
    "load_dummy()"
   ]
  },
  {
   "cell_type": "code",
   "execution_count": 4,
   "id": "e632bcf9",
   "metadata": {},
   "outputs": [
    {
     "name": "stdout",
     "output_type": "stream",
     "text": [
      "✅ Done!       \n"
     ]
    }
   ],
   "source": [
    "import sys,time\n",
    "\n",
    "def print_waiting(iterations=10):\n",
    "    for i in range(iterations):\n",
    "        dots = '.' * (i % 4)  # 최대 3개 점\n",
    "        message = f\"\\r⏳ Waiting{dots:<3}\"  # <3: 공백으로 덮어씌움\n",
    "        sys.stdout.write(message)\n",
    "        sys.stdout.flush()\n",
    "        time.sleep(0.5)\n",
    "    print(\"\\r✅ Done!       \")  # 덮어쓰기용 여분 공백 포함\n",
    "\n",
    "print_waiting(100)"
   ]
  }
 ],
 "metadata": {
  "kernelspec": {
   "display_name": "diget",
   "language": "python",
   "name": "python3"
  },
  "language_info": {
   "codemirror_mode": {
    "name": "ipython",
    "version": 3
   },
   "file_extension": ".py",
   "mimetype": "text/x-python",
   "name": "python",
   "nbconvert_exporter": "python",
   "pygments_lexer": "ipython3",
   "version": "3.7.9"
  }
 },
 "nbformat": 4,
 "nbformat_minor": 5
}
